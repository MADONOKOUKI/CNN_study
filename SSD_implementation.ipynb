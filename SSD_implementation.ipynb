{
 "cells": [
  {
   "cell_type": "code",
   "execution_count": 13,
   "metadata": {},
   "outputs": [],
   "source": [
    "import numpy as np\n",
    "import os\n",
    "from xml.etree import ElementTree"
   ]
  },
  {
   "cell_type": "code",
   "execution_count": 14,
   "metadata": {
    "collapsed": true
   },
   "outputs": [],
   "source": [
    "class XML_preprocessor(object):\n",
    "    def __init__(self,data_path):\n",
    "        self.path_prefix = data_path\n",
    "        self.num_classes = 1\n",
    "        self.data = dict()\n",
    "        self._preprocess_XML()\n",
    "    def _preprocess_XML(self):\n",
    "        filenames = os.listdir(self.path_prefix)\n",
    "        for filename in filenames:\n",
    "            tree = ElementTree.parse(self.path_prefix + filename)\n",
    "            root = tree.getroot()\n",
    "            bounding_boxes = []\n",
    "            one_hot_classes = []\n",
    "            size_tree = root.find('size')\n",
    "            width = float(size_tree.find('width').text)\n",
    "            height = float(size_tree.find('height').text)\n",
    "            for object_tree in root.findall('object'):\n",
    "                for bounding_box in object_tree.iter('bndbox'):\n",
    "                    xmin = float(bounding_box.find('xmin').text)/width\n",
    "                    ymin = float(bounding_box.find('ymin').text)/height\n",
    "                    xmax = float(bounding_box.find('xmax').text)/width\n",
    "                    ymax = float(bounding_box.find('ymax').text)/height\n",
    "                bounding_box = [xmin,ymin,xmax,ymax]\n",
    "                bounding_boxes.append(bounding_box)\n",
    "                class_name = object_tree.find('name').text\n",
    "                one_hot_class = self._to_one_hot(class_name)\n",
    "                one_hot_classes.append(one_hot_class)\n",
    "            image_name = root.find('filename').text\n",
    "            bounding_boxes = np.asarray(bounding_boxes)\n",
    "            one_hot_classes = np.asarray(one_hot_classes)\n",
    "            image_data = np.hstack((bounding_boxes, one_hot_classes))\n",
    "            self.data[image_name] = image_data\n",
    "\n",
    "    def _to_one_hot(self,name):\n",
    "        one_hot_vector = [0] * self.num_classes\n",
    "        if name == 'carot':\n",
    "            one_hot_vector[0] = 1\n",
    "        else:\n",
    "            print('unknown label: %s' %name)\n",
    "\n",
    "        return one_hot_vector"
   ]
  },
  {
   "cell_type": "code",
   "execution_count": 15,
   "metadata": {},
   "outputs": [],
   "source": [
    "# example on how to use it\n",
    "import pickle\n",
    "data = XML_preprocessor('mainGUI/xml_data/').data\n",
    "pickle.dump(data,open('prob.pkl','wb'))\n",
    "\n",
    "        "
   ]
  },
  {
   "cell_type": "code",
   "execution_count": 18,
   "metadata": {},
   "outputs": [
    {
     "name": "stdout",
     "output_type": "stream",
     "text": [
      "dict_keys(['1.jpg'])\n",
      "[[ 0.32708333  0.01388889  0.58333333  0.94722222  1.        ]]\n"
     ]
    }
   ],
   "source": [
    "f = open('prob.pkl', 'rb')\n",
    "data = pickle.load(f)\n",
    "print(data.keys())\n",
    "#############################################\n",
    "# dict_keys(['000005.jpg', ..., '006739.jpg', ...]) ... \n",
    "# みたいな感じで画像名のリストが表示されます。\n",
    "#############################################\n",
    "print(data['1.jpg'])"
   ]
  },
  {
   "cell_type": "code",
   "execution_count": null,
   "metadata": {
    "collapsed": true
   },
   "outputs": [],
   "source": []
  }
 ],
 "metadata": {
  "kernelspec": {
   "display_name": "Python3-TensorFlow",
   "language": "python",
   "name": "py35_tf"
  },
  "language_info": {
   "codemirror_mode": {
    "name": "ipython",
    "version": 3
   },
   "file_extension": ".py",
   "mimetype": "text/x-python",
   "name": "python",
   "nbconvert_exporter": "python",
   "pygments_lexer": "ipython3",
   "version": "3.6.0"
  }
 },
 "nbformat": 4,
 "nbformat_minor": 2
}
