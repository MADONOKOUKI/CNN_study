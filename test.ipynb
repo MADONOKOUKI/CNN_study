{
 "cells": [
  {
   "cell_type": "code",
   "execution_count": 1,
   "metadata": {},
   "outputs": [
    {
     "name": "stdout",
     "output_type": "stream",
     "text": [
      "186\n",
      "{\"username\":\"\",\"version\":\"5.2\",\"session\":\"a8a545980cbd017819584bbfbf90cb7e\",\"msg_id\":\"c9e1eba5cc5c3e8ea9abd6b822022d2b\",\"msg_type\":\"execute_request\",\"date\":\"2017-11-10T08:12:43.095559Z\"}\n",
      "2\n",
      "{}\n",
      "2\n",
      "{}\n",
      "363\n",
      "{\"silent\":false,\"store_history\":true,\"user_expressions\":{},\"allow_stdin\":true,\"stop_on_error\":true,\"code\":\"import numpy as np\\nimport matplotlib.pyplot as plt\\n%matplotlib inline # 画像をインラインで表示\\nimport seaborn as sns\\nsns.set(font='Kozuka Gothic Pro', style=\\\"whitegrid\\\") # フォントは環境に合わせて…\\nsns.distplot(np.random.rand(10000) * 256, kde=False, rug=False, bins=32)\"}\n",
      "122\n",
      "\n",
      "{\n",
      " \"dirty\": false,\n",
      " \"error\": null,\n",
      " \"full-revisionid\": \"1bfc7551f32f7b42ba50620a837f03e51d5b7c77\",\n",
      " \"version\": \"2.0.0\"\n",
      "}\n",
      "\n"
     ]
    },
    {
     "name": "stderr",
     "output_type": "stream",
     "text": [
      "UsageError: unrecognized arguments: # 画像をインラインで表示\n"
     ]
    }
   ],
   "source": [
    "import numpy as np\n",
    "import matplotlib.pyplot as plt\n",
    "%matplotlib inline # 画像をインラインで表示\n",
    "import seaborn as sns\n",
    "sns.set(font='Kozuka Gothic Pro', style=\"whitegrid\") # フォントは環境に合わせて…\n",
    "sns.distplot(np.random.rand(10000) * 256, kde=False, rug=False, bins=32)"
   ]
  },
  {
   "cell_type": "code",
   "execution_count": null,
   "metadata": {},
   "outputs": [],
   "source": []
  }
 ],
 "metadata": {
  "kernelspec": {
   "display_name": "Python3-TensorFlow",
   "language": "python",
   "name": "py35_tf"
  },
  "language_info": {
   "codemirror_mode": {
    "name": "ipython",
    "version": 3
   },
   "file_extension": ".py",
   "mimetype": "text/x-python",
   "name": "python",
   "nbconvert_exporter": "python",
   "pygments_lexer": "ipython3",
   "version": "3.6.0"
  }
 },
 "nbformat": 4,
 "nbformat_minor": 2
}
